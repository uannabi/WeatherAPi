{
 "cells": [
  {
   "cell_type": "code",
   "execution_count": 1,
   "metadata": {},
   "outputs": [],
   "source": [
    "import math\n",
    "import collections\n",
    "import urllib\n",
    "\n",
    "import numpy as np\n",
    "import pandas as pd\n",
    "import matplotlib.pyplot as pp\n",
    "\n",
    "%matplotlib inline"
   ]
  },
  {
   "cell_type": "code",
   "execution_count": 4,
   "metadata": {},
   "outputs": [],
   "source": [
    "import getweather"
   ]
  },
  {
   "cell_type": "code",
   "execution_count": 5,
   "metadata": {},
   "outputs": [],
   "source": [
    "pasadena = getweather.getyear('PASADENA', ['TMIN', 'TMAX'], 2001)"
   ]
  },
  {
   "cell_type": "code",
   "execution_count": 6,
   "metadata": {},
   "outputs": [
    {
     "data": {
      "text/plain": [
       "(nan, nan, nan)"
      ]
     },
     "execution_count": 6,
     "metadata": {},
     "output_type": "execute_result"
    }
   ],
   "source": [
    "np.mean(pasadena['TMIN']), np.min(pasadena['TMIN']), np.max(pasadena['TMIN'])"
   ]
  },
  {
   "cell_type": "code",
   "execution_count": 7,
   "metadata": {},
   "outputs": [
    {
     "data": {
      "text/plain": [
       "array([ 9.4,  8.3,  8.9,  8.3, 10. , 10.6,  7.2,  7.2,  7.8,  6.1,  5.6,\n",
       "        6.1,  5. ,  3.9,  4.4,  2.8,  5. ,  3.9,  5.6,  7.2,  7.2,  8.9,\n",
       "        5.6,  6.7,  3.3,  5.6,  3.3,  3.3,  3.3,  3.9,  5. ,  5. ,  6.1,\n",
       "        nan,  7.2, 13.9, 11.1,  5.6,  2.2,  3.9,  6.1,  3.3,  5.6,  6.1,\n",
       "        2.8,  2.8,  4.4,  7.8, 10. ,  9.4,  5.6,  5.6,  7.8,  5. ,  3.9,\n",
       "        6.7,  7.2,  7.8,  6.7,  5. ,  5.6,  8.3,  9.4, 10. ,  9.4, 10. ,\n",
       "        8.9, 10.6,  6.1,  8.9,  8.3,  7.2,  7.8, 10. , 10. ,  7.8, 10.6,\n",
       "       13.3, 14.4, 10.6, 11.7, 11.1,  9.4, 10. , 12.2, 10. , 11.1, 12.8,\n",
       "       12.8, 12.8, 12.2, 11.1, 10.6,  8.3,  8.3,  6.1,  7.2,  3.3, 16.1,\n",
       "        3.9,  8.9,  7.8,  6.7,  7.2,  7.2,  9.4,  9.4, 12.2, 11.1,  8.9,\n",
       "        6.1,  7.2, 10. , 10. , 16.1, 12.2, 12.8, 11.7,  nan, 11.1, 11.7,\n",
       "       12.2, 11.1, 10.6, 11.1, 12.2, 13.3, 15.6, 16.1, 14.4, 13.3, 13.9,\n",
       "       13.3, 10.6, 13.3, 13.9, 14.4, 15. ,  nan, 11.1, 14.4, 15. , 15.6,\n",
       "       15. , 15.6, 16.7, 14.4, 14.4, 12.8, 13.9, 15. , 16.1, 15. , 14.4,\n",
       "       13.3, 12.8, 13.9, 15. , 15.6, 15.6, 15.6,  nan, 14.4,  nan,  nan,\n",
       "        nan, 13.3, 14.4, 16.1, 16.1, 16.7, 17.2, 18.9,  nan, 15. , 15.6,\n",
       "       15.6, 15. , 15.6, 16.1, 15.6, 17.2, 18.3, 20. , 21.1, 20. , 18.9,\n",
       "       17.8, 16.7, 15. , 13.9, 12.8, 12.2, 14.4, 14.4, 16.1, 15.6, 13.3,\n",
       "       13.3, 13.9, 13.3, 13.9, 13.3, 13.3, 14.4,  nan, 14.4, 15. , 14.4,\n",
       "       15. , 15.6, 15.6, 15. , 15. , 13.9, 12.2, 14.4, 17.8, 19.4, 17.8,\n",
       "       15. , 15.6, 16.7, 16.1, 16.7, 18.3, 17.2, 17.2, 17.2, 18.3, 18.9,\n",
       "       16.7, 15.6, 16.1, 13.9, 15.6, 17.8, 18.3, 16.7, 16.1, 15. , 16.7,\n",
       "       15. , 15. , 18.9, 18.3, 17.2, 17.2, 17.2, 16.1, 15.6, 15. , 13.3,\n",
       "       15. , 14.4, 12.8, 13.9, 13.9, 13.3, 15.6, 13.9, 13.3, 12.8, 13.3,\n",
       "       15. , 13.9, 16.1, 18.9, 17.2, 17.2, 15.6, 15. , 18.9, 18.3, 18.9,\n",
       "       15.6, 14.4, 15.6,  nan,  nan, 11.7, 14.4, 11.7, 11.1, 11.7, 14.4,\n",
       "       12.8, 13.9, 15. , 11.7, 12.2, 12.8, 16.1, 12.2, 13.3, 11.1, 11.7,\n",
       "       11.7, 13.3, 12.2, 13.3, 12.2, 12.2, 11.7, 11.1, 11.1,  9.4, 14.4,\n",
       "       12.2, 11.7, 12.2, 11.7, 12.8, 13.9, 13.3,  nan,  7.2,  7.2, 10. ,\n",
       "       10. , 10. ,  8.9, 10. , 10.6, 11.1, 11.1, 10.6, 10. ,  nan, 11.1,\n",
       "        5.6,  3.3,  7.2,  5.6,  5. ,  6.1,  8.9,  6.1,  4.4,  6.7,  7.2,\n",
       "        7.8,  5.6,  4.4,  3.9,  5.6,  3.9,  5.6,  6.1,  3.9,  3.9,  3.9,\n",
       "        5.6,  6.7,  6.1,  4.4,  nan,  4.4,  4.4,  5.6,  nan,  7.8, 10. ,\n",
       "        9.4, 10.6])"
      ]
     },
     "execution_count": 7,
     "metadata": {},
     "output_type": "execute_result"
    }
   ],
   "source": [
    "pasadena['TMIN']"
   ]
  },
  {
   "cell_type": "code",
   "execution_count": 8,
   "metadata": {},
   "outputs": [
    {
     "data": {
      "text/plain": [
       "nan"
      ]
     },
     "execution_count": 8,
     "metadata": {},
     "output_type": "execute_result"
    }
   ],
   "source": [
    "np.nan + 1"
   ]
  },
  {
   "cell_type": "code",
   "execution_count": 9,
   "metadata": {},
   "outputs": [
    {
     "data": {
      "text/plain": [
       "array([False, False, False, False, False, False, False, False, False,\n",
       "       False, False, False, False, False, False, False, False, False,\n",
       "       False, False, False, False, False, False, False, False, False,\n",
       "       False, False, False, False, False, False,  True, False, False,\n",
       "       False, False, False, False, False, False, False, False, False,\n",
       "       False, False, False, False, False, False, False, False, False,\n",
       "       False, False, False, False, False, False, False, False, False,\n",
       "       False, False, False, False, False, False, False, False, False,\n",
       "       False, False, False, False, False, False, False, False, False,\n",
       "       False, False, False, False, False, False, False, False, False,\n",
       "       False, False, False, False, False, False, False, False, False,\n",
       "       False, False, False, False, False, False, False, False, False,\n",
       "       False, False, False, False, False, False, False, False, False,\n",
       "       False,  True, False, False, False, False, False, False, False,\n",
       "       False, False, False, False, False, False, False, False, False,\n",
       "       False, False, False,  True, False, False, False, False, False,\n",
       "       False, False, False, False, False, False, False, False, False,\n",
       "       False, False, False, False, False, False, False, False,  True,\n",
       "       False,  True,  True,  True, False, False, False, False, False,\n",
       "       False, False,  True, False, False, False, False, False, False,\n",
       "       False, False, False, False, False, False, False, False, False,\n",
       "       False, False, False, False, False, False, False, False, False,\n",
       "       False, False, False, False, False, False, False,  True, False,\n",
       "       False, False, False, False, False, False, False, False, False,\n",
       "       False, False, False, False, False, False, False, False, False,\n",
       "       False, False, False, False, False, False, False, False, False,\n",
       "       False, False, False, False, False, False, False, False, False,\n",
       "       False, False, False, False, False, False, False, False, False,\n",
       "       False, False, False, False, False, False, False, False, False,\n",
       "       False, False, False, False, False, False, False, False, False,\n",
       "       False, False, False, False, False, False, False, False,  True,\n",
       "        True, False, False, False, False, False, False, False, False,\n",
       "       False, False, False, False, False, False, False, False, False,\n",
       "       False, False, False, False, False, False, False, False, False,\n",
       "       False, False, False, False, False, False, False, False, False,\n",
       "        True, False, False, False, False, False, False, False, False,\n",
       "       False, False, False, False,  True, False, False, False, False,\n",
       "       False, False, False, False, False, False, False, False, False,\n",
       "       False, False, False, False, False, False, False, False, False,\n",
       "       False, False, False, False, False,  True, False, False, False,\n",
       "        True, False, False, False, False])"
      ]
     },
     "execution_count": 9,
     "metadata": {},
     "output_type": "execute_result"
    }
   ],
   "source": [
    "np.isnan(pasadena['TMIN'])"
   ]
  },
  {
   "cell_type": "code",
   "execution_count": 10,
   "metadata": {},
   "outputs": [
    {
     "data": {
      "text/plain": [
       "2"
      ]
     },
     "execution_count": 10,
     "metadata": {},
     "output_type": "execute_result"
    }
   ],
   "source": [
    "False + True + True"
   ]
  },
  {
   "cell_type": "code",
   "execution_count": 11,
   "metadata": {},
   "outputs": [
    {
     "data": {
      "text/plain": [
       "15"
      ]
     },
     "execution_count": 11,
     "metadata": {},
     "output_type": "execute_result"
    }
   ],
   "source": [
    "np.sum(np.isnan(pasadena['TMIN']))"
   ]
  },
  {
   "cell_type": "code",
   "execution_count": 12,
   "metadata": {},
   "outputs": [
    {
     "data": {
      "text/plain": [
       "(2.2, 41.1)"
      ]
     },
     "execution_count": 12,
     "metadata": {},
     "output_type": "execute_result"
    }
   ],
   "source": [
    "np.nanmin(pasadena['TMIN']), np.nanmax(pasadena['TMAX'])"
   ]
  },
  {
   "cell_type": "code",
   "execution_count": 13,
   "metadata": {},
   "outputs": [],
   "source": [
    "pasadena['TMIN'][np.isnan(pasadena['TMIN'])] = np.nanmean(pasadena['TMIN'])\n",
    "pasadena['TMAX'][np.isnan(pasadena['TMAX'])] = np.nanmean(pasadena['TMAX'])"
   ]
  },
  {
   "cell_type": "code",
   "execution_count": 14,
   "metadata": {},
   "outputs": [
    {
     "data": {
      "text/plain": [
       "array([ 9.4       ,  8.3       ,  8.9       ,  8.3       , 10.        ,\n",
       "       10.6       ,  7.2       ,  7.2       ,  7.8       ,  6.1       ,\n",
       "        5.6       ,  6.1       ,  5.        ,  3.9       ,  4.4       ,\n",
       "        2.8       ,  5.        ,  3.9       ,  5.6       ,  7.2       ,\n",
       "        7.2       ,  8.9       ,  5.6       ,  6.7       ,  3.3       ,\n",
       "        5.6       ,  3.3       ,  3.3       ,  3.3       ,  3.9       ,\n",
       "        5.        ,  5.        ,  6.1       , 11.45314286,  7.2       ,\n",
       "       13.9       , 11.1       ,  5.6       ,  2.2       ,  3.9       ,\n",
       "        6.1       ,  3.3       ,  5.6       ,  6.1       ,  2.8       ,\n",
       "        2.8       ,  4.4       ,  7.8       , 10.        ,  9.4       ,\n",
       "        5.6       ,  5.6       ,  7.8       ,  5.        ,  3.9       ,\n",
       "        6.7       ,  7.2       ,  7.8       ,  6.7       ,  5.        ,\n",
       "        5.6       ,  8.3       ,  9.4       , 10.        ,  9.4       ,\n",
       "       10.        ,  8.9       , 10.6       ,  6.1       ,  8.9       ,\n",
       "        8.3       ,  7.2       ,  7.8       , 10.        , 10.        ,\n",
       "        7.8       , 10.6       , 13.3       , 14.4       , 10.6       ,\n",
       "       11.7       , 11.1       ,  9.4       , 10.        , 12.2       ,\n",
       "       10.        , 11.1       , 12.8       , 12.8       , 12.8       ,\n",
       "       12.2       , 11.1       , 10.6       ,  8.3       ,  8.3       ,\n",
       "        6.1       ,  7.2       ,  3.3       , 16.1       ,  3.9       ,\n",
       "        8.9       ,  7.8       ,  6.7       ,  7.2       ,  7.2       ,\n",
       "        9.4       ,  9.4       , 12.2       , 11.1       ,  8.9       ,\n",
       "        6.1       ,  7.2       , 10.        , 10.        , 16.1       ,\n",
       "       12.2       , 12.8       , 11.7       , 11.45314286, 11.1       ,\n",
       "       11.7       , 12.2       , 11.1       , 10.6       , 11.1       ,\n",
       "       12.2       , 13.3       , 15.6       , 16.1       , 14.4       ,\n",
       "       13.3       , 13.9       , 13.3       , 10.6       , 13.3       ,\n",
       "       13.9       , 14.4       , 15.        , 11.45314286, 11.1       ,\n",
       "       14.4       , 15.        , 15.6       , 15.        , 15.6       ,\n",
       "       16.7       , 14.4       , 14.4       , 12.8       , 13.9       ,\n",
       "       15.        , 16.1       , 15.        , 14.4       , 13.3       ,\n",
       "       12.8       , 13.9       , 15.        , 15.6       , 15.6       ,\n",
       "       15.6       , 11.45314286, 14.4       , 11.45314286, 11.45314286,\n",
       "       11.45314286, 13.3       , 14.4       , 16.1       , 16.1       ,\n",
       "       16.7       , 17.2       , 18.9       , 11.45314286, 15.        ,\n",
       "       15.6       , 15.6       , 15.        , 15.6       , 16.1       ,\n",
       "       15.6       , 17.2       , 18.3       , 20.        , 21.1       ,\n",
       "       20.        , 18.9       , 17.8       , 16.7       , 15.        ,\n",
       "       13.9       , 12.8       , 12.2       , 14.4       , 14.4       ,\n",
       "       16.1       , 15.6       , 13.3       , 13.3       , 13.9       ,\n",
       "       13.3       , 13.9       , 13.3       , 13.3       , 14.4       ,\n",
       "       11.45314286, 14.4       , 15.        , 14.4       , 15.        ,\n",
       "       15.6       , 15.6       , 15.        , 15.        , 13.9       ,\n",
       "       12.2       , 14.4       , 17.8       , 19.4       , 17.8       ,\n",
       "       15.        , 15.6       , 16.7       , 16.1       , 16.7       ,\n",
       "       18.3       , 17.2       , 17.2       , 17.2       , 18.3       ,\n",
       "       18.9       , 16.7       , 15.6       , 16.1       , 13.9       ,\n",
       "       15.6       , 17.8       , 18.3       , 16.7       , 16.1       ,\n",
       "       15.        , 16.7       , 15.        , 15.        , 18.9       ,\n",
       "       18.3       , 17.2       , 17.2       , 17.2       , 16.1       ,\n",
       "       15.6       , 15.        , 13.3       , 15.        , 14.4       ,\n",
       "       12.8       , 13.9       , 13.9       , 13.3       , 15.6       ,\n",
       "       13.9       , 13.3       , 12.8       , 13.3       , 15.        ,\n",
       "       13.9       , 16.1       , 18.9       , 17.2       , 17.2       ,\n",
       "       15.6       , 15.        , 18.9       , 18.3       , 18.9       ,\n",
       "       15.6       , 14.4       , 15.6       , 11.45314286, 11.45314286,\n",
       "       11.7       , 14.4       , 11.7       , 11.1       , 11.7       ,\n",
       "       14.4       , 12.8       , 13.9       , 15.        , 11.7       ,\n",
       "       12.2       , 12.8       , 16.1       , 12.2       , 13.3       ,\n",
       "       11.1       , 11.7       , 11.7       , 13.3       , 12.2       ,\n",
       "       13.3       , 12.2       , 12.2       , 11.7       , 11.1       ,\n",
       "       11.1       ,  9.4       , 14.4       , 12.2       , 11.7       ,\n",
       "       12.2       , 11.7       , 12.8       , 13.9       , 13.3       ,\n",
       "       11.45314286,  7.2       ,  7.2       , 10.        , 10.        ,\n",
       "       10.        ,  8.9       , 10.        , 10.6       , 11.1       ,\n",
       "       11.1       , 10.6       , 10.        , 11.45314286, 11.1       ,\n",
       "        5.6       ,  3.3       ,  7.2       ,  5.6       ,  5.        ,\n",
       "        6.1       ,  8.9       ,  6.1       ,  4.4       ,  6.7       ,\n",
       "        7.2       ,  7.8       ,  5.6       ,  4.4       ,  3.9       ,\n",
       "        5.6       ,  3.9       ,  5.6       ,  6.1       ,  3.9       ,\n",
       "        3.9       ,  3.9       ,  5.6       ,  6.7       ,  6.1       ,\n",
       "        4.4       , 11.45314286,  4.4       ,  4.4       ,  5.6       ,\n",
       "       11.45314286,  7.8       , 10.        ,  9.4       , 10.6       ])"
      ]
     },
     "execution_count": 14,
     "metadata": {},
     "output_type": "execute_result"
    }
   ],
   "source": [
    "pasadena['TMIN']"
   ]
  },
  {
   "cell_type": "code",
   "execution_count": null,
   "metadata": {},
   "outputs": [],
   "source": []
  }
 ],
 "metadata": {
  "kernelspec": {
   "display_name": "Python 3",
   "language": "python",
   "name": "python3"
  },
  "language_info": {
   "codemirror_mode": {
    "name": "ipython",
    "version": 3
   },
   "file_extension": ".py",
   "mimetype": "text/x-python",
   "name": "python",
   "nbconvert_exporter": "python",
   "pygments_lexer": "ipython3",
   "version": "3.8.3"
  }
 },
 "nbformat": 4,
 "nbformat_minor": 4
}
